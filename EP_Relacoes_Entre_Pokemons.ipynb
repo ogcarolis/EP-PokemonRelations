{
  "nbformat": 4,
  "nbformat_minor": 0,
  "metadata": {
    "colab": {
      "provenance": []
    },
    "kernelspec": {
      "name": "python3",
      "display_name": "Python 3"
    },
    "language_info": {
      "name": "python"
    }
  },
  "cells": [
    {
      "cell_type": "markdown",
      "source": [
        "# EP 2 - Relações entre Pokémons\n",
        "\n",
        "## Desenvolvedores\n",
        "- Carolina Gimenez\n",
        "- Eduarda Medeiros\n",
        "- Gustavo Pagnotta"
      ],
      "metadata": {
        "id": "zkfVE8uH4Dgd"
      }
    },
    {
      "cell_type": "markdown",
      "source": [
        "# Imports"
      ],
      "metadata": {
        "id": "aBnW9I1V3kZ-"
      }
    },
    {
      "cell_type": "code",
      "source": [
        "!pip install neo4j"
      ],
      "metadata": {
        "id": "b0FPma9AN6Ww",
        "colab": {
          "base_uri": "https://localhost:8080/"
        },
        "outputId": "416cf423-8b27-47c6-d5a3-c3ce5ad8630b"
      },
      "execution_count": 1,
      "outputs": [
        {
          "output_type": "stream",
          "name": "stdout",
          "text": [
            "Collecting neo4j\n",
            "  Downloading neo4j-5.25.0-py3-none-any.whl.metadata (5.7 kB)\n",
            "Requirement already satisfied: pytz in /usr/local/lib/python3.10/dist-packages (from neo4j) (2024.2)\n",
            "Downloading neo4j-5.25.0-py3-none-any.whl (296 kB)\n",
            "\u001b[2K   \u001b[90m━━━━━━━━━━━━━━━━━━━━━━━━━━━━━━━━━━━━━━━━\u001b[0m \u001b[32m296.6/296.6 kB\u001b[0m \u001b[31m8.5 MB/s\u001b[0m eta \u001b[36m0:00:00\u001b[0m\n",
            "\u001b[?25hInstalling collected packages: neo4j\n",
            "Successfully installed neo4j-5.25.0\n"
          ]
        }
      ]
    },
    {
      "cell_type": "code",
      "source": [
        "import os\n",
        "from neo4j import GraphDatabase\n",
        "import json\n",
        "import re"
      ],
      "metadata": {
        "id": "PKtHiG0e3ozY"
      },
      "execution_count": 2,
      "outputs": []
    },
    {
      "cell_type": "markdown",
      "source": [
        "# Credenciais"
      ],
      "metadata": {
        "id": "3w3lKIzR3qKW"
      }
    },
    {
      "cell_type": "code",
      "source": [
        "senha = \"Y_kgind87Zp_lKAFNsQSzwb0MdLo0Z6KMo8MW4jXjNo\"\n",
        "url = \"neo4j+s://8fd1cf81.databases.neo4j.io\"\n",
        "usuario = \"neo4j\""
      ],
      "metadata": {
        "id": "n6tc1IEuzmOK"
      },
      "execution_count": 3,
      "outputs": []
    },
    {
      "cell_type": "markdown",
      "source": [
        "# Criação dos scripts com base no arquivo JSON"
      ],
      "metadata": {
        "id": "ESa49gHLH7VK"
      }
    },
    {
      "cell_type": "code",
      "source": [
        "def criacao_base():\n",
        "  with open(\"/content/pokemon_data.json\", \"r\") as file:\n",
        "      pokemon_data = json.load(file)\n",
        "\n",
        "  # Gerar comandos CREATE\n",
        "  create_statements = []\n",
        "  connection_statements = []\n",
        "\n",
        "  for pokemon in pokemon_data:\n",
        "      types = []\n",
        "      name = pokemon['name'].lower()\n",
        "      if \"♀\" in name or \"♂\" in name or \"\\'\" in name or \".\" in name or \"-\" in name or \" \" in name:\n",
        "        name = re.sub(r'[^\\w\\s]', '', name)\n",
        "        name = name.replace(\" \", \"_\").replace(\"(\", \"\").replace(\")\", \"\")\n",
        "\n",
        "      types = pokemon['types'].split(\",\")\n",
        "      evolutions_list = pokemon['evolution']\n",
        "\n",
        "      # Criação do Pokemon\n",
        "      create_pokemon = f\"CREATE ({name}:POKEMON {{id: {pokemon['id']}, name: \\\"{pokemon['name']}\\\", height: \\\"{pokemon['height']}\\\", weight: \\\"{pokemon['weight']}\\\", color: \\\"{pokemon['color']}\\\"}})\\n\"\n",
        "      create_statements.append(create_pokemon)\n",
        "\n",
        "      # Criação dos tipos\n",
        "      for ptype in types:\n",
        "          connection_statements.append(f\"CREATE ({name})-[:HAS_TYPE]->({ptype.lower()})\\n\")\n",
        "\n",
        "      # Criação das evoluções\n",
        "      for evolutions in evolutions_list:\n",
        "          evolution_name = evolutions['name'].lower()\n",
        "\n",
        "          if \"♀\" in evolution_name or \"♂\" in evolution_name or \"\\'\" in evolution_name or \".\" in evolution_name or \"-\" in evolution_name:\n",
        "            evolution_name = re.sub(r'[^\\w\\s]', '', evolution_name)\n",
        "            evolution_name = evolution_name.replace(\" \", \"_\").replace(\"(\", \"\").replace(\")\", \"\")\n",
        "\n",
        "          connection_statements.append(f\"CREATE ({name})-[:EVOLUTION]->({evolution_name})\\n\")\n",
        "\n",
        "  return \"\".join(create_statements) + \"\\n\" + \"\".join(connection_statements)"
      ],
      "metadata": {
        "id": "p3whkRlRIBrD"
      },
      "execution_count": 4,
      "outputs": []
    },
    {
      "cell_type": "markdown",
      "source": [
        "# Criação da base"
      ],
      "metadata": {
        "id": "AZAzPdKD4df_"
      }
    },
    {
      "cell_type": "code",
      "execution_count": 6,
      "metadata": {
        "colab": {
          "base_uri": "https://localhost:8080/"
        },
        "id": "mLKToaZZzM-6",
        "outputId": "f918c840-c01d-457c-89ab-14fe95bdf2a1"
      },
      "outputs": [
        {
          "output_type": "stream",
          "name": "stderr",
          "text": [
            "<ipython-input-6-3575854ad9d7>:10: DeprecationWarning: write_transaction has been renamed to execute_write\n",
            "  session.write_transaction(self._zera_base)\n",
            "<ipython-input-6-3575854ad9d7>:11: DeprecationWarning: write_transaction has been renamed to execute_write\n",
            "  session.write_transaction(self._cria_relacoes)\n"
          ]
        },
        {
          "output_type": "stream",
          "name": "stdout",
          "text": [
            "Base carregada\n"
          ]
        }
      ],
      "source": [
        "class CriarRelacoes:\n",
        "  def __init__(self, uri, user, password):\n",
        "    self.driver = GraphDatabase.driver(uri, auth=(user, password))\n",
        "\n",
        "  def close(self):\n",
        "    self.driver.close()\n",
        "\n",
        "  def carrega_base(self):\n",
        "    with self.driver.session() as session:\n",
        "      session.write_transaction(self._zera_base)\n",
        "      session.write_transaction(self._cria_relacoes)\n",
        "\n",
        "  @staticmethod\n",
        "  def _zera_base(tx):\n",
        "    tx.run(\"\"\"\n",
        "MATCH (n)\n",
        "DETACH DELETE n\n",
        "\"\"\")\n",
        "\n",
        "  @staticmethod\n",
        "  def _cria_relacoes(tx):\n",
        "    base = criacao_base()\n",
        "\n",
        "    tipos_criacao = \"\"\"\n",
        "      CREATE (water:TYPE {type: 'Water'})\n",
        "      CREATE (fairy:TYPE {type: 'Fairy'})\n",
        "      CREATE (rock:TYPE {type: 'Rock'})\n",
        "      CREATE (normal:TYPE {type: 'Normal'})\n",
        "      CREATE (steel:TYPE {type: 'Steel'})\n",
        "      CREATE (grass:TYPE {type: 'Grass'})\n",
        "      CREATE (electric:TYPE {type: 'Electric'})\n",
        "      CREATE (fighting:TYPE {type: 'Fighting'})\n",
        "      CREATE (poison:TYPE {type: 'Poison'})\n",
        "      CREATE (psychic:TYPE {type: 'Psychic'})\n",
        "      CREATE (ice:TYPE {type: 'Ice'})\n",
        "      CREATE (ghost:TYPE {type: 'Ghost'})\n",
        "      CREATE (flying:TYPE {type: 'Flying'})\n",
        "      CREATE (dragon:TYPE {type: 'Dragon'})\n",
        "      CREATE (ground:TYPE {type: 'Ground'})\n",
        "      CREATE (fire:TYPE {type: 'Fire'})\n",
        "      CREATE (dark:TYPE {type: 'Dark'})\n",
        "      CREATE (bug:TYPE {type: 'Bug'})\n",
        "    \"\"\"\n",
        "\n",
        "    fraqueza_tipos = \"\"\"\n",
        "    CREATE (water)-[:WEAKNESS]->(electric)\n",
        "    CREATE (water)-[:WEAKNESS]->(grass)\n",
        "    CREATE (fire)-[:WEAKNESS]->(water)\n",
        "    CREATE (fire)-[:WEAKNESS]->(rock)\n",
        "    CREATE (fire)-[:WEAKNESS]->(ground)\n",
        "    CREATE (grass)-[:WEAKNESS]->(fire)\n",
        "    CREATE (grass)-[:WEAKNESS]->(flying)\n",
        "    CREATE (grass)-[:WEAKNESS]->(bug)\n",
        "    CREATE (grass)-[:WEAKNESS]->(poison)\n",
        "    CREATE (grass)-[:WEAKNESS]->(ice)\n",
        "    CREATE (electric)-[:WEAKNESS]->(ground)\n",
        "    CREATE (ground)-[:WEAKNESS]->(water)\n",
        "    CREATE (ground)-[:WEAKNESS]->(ice)\n",
        "    CREATE (ground)-[:WEAKNESS]->(grass)\n",
        "    CREATE (flying)-[:WEAKNESS]->(electric)\n",
        "    CREATE (flying)-[:WEAKNESS]->(ice)\n",
        "    CREATE (flying)-[:WEAKNESS]->(rock)\n",
        "    CREATE (rock)-[:WEAKNESS]->(water)\n",
        "    CREATE (rock)-[:WEAKNESS]->(grass)\n",
        "    CREATE (rock)-[:WEAKNESS]->(fighting)\n",
        "    CREATE (rock)-[:WEAKNESS]->(ground)\n",
        "    CREATE (rock)-[:WEAKNESS]->(steel)\n",
        "    CREATE (steel)-[:WEAKNESS]->(fire)\n",
        "    CREATE (steel)-[:WEAKNESS]->(fighting)\n",
        "    CREATE (steel)-[:WEAKNESS]->(ground)\n",
        "    CREATE (bug)-[:WEAKNESS]->(fire)\n",
        "    CREATE (bug)-[:WEAKNESS]->(flying)\n",
        "    CREATE (bug)-[:WEAKNESS]->(rock)\n",
        "    CREATE (ice)-[:WEAKNESS]->(fire)\n",
        "    CREATE (ice)-[:WEAKNESS]->(fighting)\n",
        "    CREATE (ice)-[:WEAKNESS]->(rock)\n",
        "    CREATE (ice)-[:WEAKNESS]->(steel)\n",
        "    CREATE (fighting)-[:WEAKNESS]->(flying)\n",
        "    CREATE (fighting)-[:WEAKNESS]->(psychic)\n",
        "    CREATE (fighting)-[:WEAKNESS]->(fairy)\n",
        "    CREATE (poison)-[:WEAKNESS]->(ground)\n",
        "    CREATE (poison)-[:WEAKNESS]->(psychic)\n",
        "    CREATE (psychic)-[:WEAKNESS]->(bug)\n",
        "    CREATE (psychic)-[:WEAKNESS]->(ghost)\n",
        "    CREATE (psychic)-[:WEAKNESS]->(dark)\n",
        "    CREATE (ghost)-[:WEAKNESS]->(ghost)\n",
        "    CREATE (ghost)-[:WEAKNESS]->(dark)\n",
        "    CREATE (dragon)-[:WEAKNESS]->(ice)\n",
        "    CREATE (dragon)-[:WEAKNESS]->(dragon)\n",
        "    CREATE (dragon)-[:WEAKNESS]->(fairy)\n",
        "    CREATE (dark)-[:WEAKNESS]->(fighting)\n",
        "    CREATE (dark)-[:WEAKNESS]->(bug)\n",
        "    CREATE (dark)-[:WEAKNESS]->(fairy)\n",
        "    CREATE (fairy)-[:WEAKNESS]->(steel)\n",
        "    CREATE (fairy)-[:WEAKNESS]->(poison)\n",
        "    CREATE (normal)-[:WEAKNESS]->(fighting)\n",
        "    \"\"\"\n",
        "\n",
        "    tx.run(tipos_criacao + \"\\n\" + base + \"\\n\" + fraqueza_tipos)\n",
        "\n",
        "db = CriarRelacoes(url, usuario, senha)\n",
        "db.carrega_base()\n",
        "db.close()\n",
        "print(\"Base carregada\")"
      ]
    },
    {
      "cell_type": "markdown",
      "source": [
        "# Consultas"
      ],
      "metadata": {
        "id": "8bUoqjUe0irX"
      }
    },
    {
      "cell_type": "code",
      "source": [
        "class Neo4jConnection:\n",
        "  def __init__(self, uri, user, pwd):\n",
        "    self.__uri = uri\n",
        "    self.__user = user\n",
        "    self.__pwd = pwd\n",
        "    self.__driver = None\n",
        "    try:\n",
        "        self.__driver = GraphDatabase.driver(self.__uri, auth=(self.__user, self.__pwd))\n",
        "    except Exception as e:\n",
        "        print(\"Failed to create the driver:\", e)\n",
        "\n",
        "  def close(self):\n",
        "    if self.__driver is not None:\n",
        "        self.__driver.close()\n",
        "\n",
        "  def query(self, query, parameters=None, db=None):\n",
        "    assert self.__driver is not None, \"Driver not initialized!\"\n",
        "    session = None\n",
        "    response = None\n",
        "    try:\n",
        "      session = self.__driver.session(database=db) if db is not None else self.__driver.session()\n",
        "      response = list(session.run(query, parameters))\n",
        "    except Exception as e:\n",
        "      print(\"Query failed:\", e)\n",
        "    finally:\n",
        "      if session is not None:\n",
        "        session.close()\n",
        "    return response\n",
        "\n",
        "conn = Neo4jConnection(uri=url,\n",
        "                       user=usuario,\n",
        "                       pwd=senha)\n",
        "\n",
        "def consultar(query):\n",
        "  return conn.query(query)\n",
        "  # for line in conn.query(query):\n",
        "  #   print(dict(line))"
      ],
      "metadata": {
        "id": "FPiwFFtyzqJy"
      },
      "execution_count": 7,
      "outputs": []
    },
    {
      "cell_type": "markdown",
      "source": [
        "## Quais Pokémons podem atacar um Pikachu pela sua fraqueza cujo o peso é mais de 10kg?"
      ],
      "metadata": {
        "id": "X7u0Hg7rvzWH"
      }
    },
    {
      "cell_type": "code",
      "source": [
        "print(\"Pokémons que atacam um Pikachu pela sua fraqueza com peso maior que 10kg:\\n\")\n",
        "\n",
        "consultar(\"\"\"\n",
        "MATCH (pikachu:POKEMON {name: \"Pikachu\"})-[:HAS_TYPE]->(t1:TYPE)-[:WEAKNESS]->(t2:TYPE)<-[:HAS_TYPE]-(p:POKEMON)\n",
        "WHERE toFloat(replace(p.weight, ' kg', '')) > 10\n",
        "RETURN p.name as ataca_pikachu, p.weight as peso\n",
        "\"\"\")"
      ],
      "metadata": {
        "colab": {
          "base_uri": "https://localhost:8080/"
        },
        "id": "x_vHuqePz9sy",
        "outputId": "208dc09b-f967-49ef-f4d3-779ad20208e3"
      },
      "execution_count": 8,
      "outputs": [
        {
          "output_type": "stream",
          "name": "stdout",
          "text": [
            "Pokémons que atacam um Pikachu pela sua fraqueza com peso maior que 10kg:\n",
            "\n"
          ]
        },
        {
          "output_type": "execute_result",
          "data": {
            "text/plain": [
              "[<Record ataca_pikachu='Sandshrew' peso='12.0 kg'>,\n",
              " <Record ataca_pikachu='Sandslash' peso='29.5 kg'>,\n",
              " <Record ataca_pikachu='Nidoqueen' peso='60.0 kg'>,\n",
              " <Record ataca_pikachu='Nidoking' peso='62.0 kg'>,\n",
              " <Record ataca_pikachu='Dugtrio' peso='33.3 kg'>,\n",
              " <Record ataca_pikachu='Geodude' peso='20.0 kg'>,\n",
              " <Record ataca_pikachu='Graveler' peso='105.0 kg'>,\n",
              " <Record ataca_pikachu='Golem' peso='300.0 kg'>,\n",
              " <Record ataca_pikachu='Onix' peso='210.0 kg'>,\n",
              " <Record ataca_pikachu='Marowak' peso='45.0 kg'>,\n",
              " <Record ataca_pikachu='Rhyhorn' peso='115.0 kg'>,\n",
              " <Record ataca_pikachu='Rhydon' peso='120.0 kg'>,\n",
              " <Record ataca_pikachu='Quagsire' peso='75.0 kg'>,\n",
              " <Record ataca_pikachu='Gligar' peso='64.8 kg'>,\n",
              " <Record ataca_pikachu='Steelix' peso='400.0 kg'>,\n",
              " <Record ataca_pikachu='Piloswine' peso='55.8 kg'>,\n",
              " <Record ataca_pikachu='Phanpy' peso='33.5 kg'>,\n",
              " <Record ataca_pikachu='Donphan' peso='120.0 kg'>,\n",
              " <Record ataca_pikachu='Larvitar' peso='72.0 kg'>,\n",
              " <Record ataca_pikachu='Pupitar' peso='152.0 kg'>,\n",
              " <Record ataca_pikachu='Marshtomp' peso='28.0 kg'>,\n",
              " <Record ataca_pikachu='Swampert' peso='81.9 kg'>,\n",
              " <Record ataca_pikachu='Numel' peso='24.0 kg'>,\n",
              " <Record ataca_pikachu='Camerupt' peso='220.0 kg'>,\n",
              " <Record ataca_pikachu='Trapinch' peso='15.0 kg'>,\n",
              " <Record ataca_pikachu='Vibrava' peso='15.3 kg'>,\n",
              " <Record ataca_pikachu='Flygon' peso='82.0 kg'>,\n",
              " <Record ataca_pikachu='Whiscash' peso='23.6 kg'>,\n",
              " <Record ataca_pikachu='Baltoy' peso='21.5 kg'>,\n",
              " <Record ataca_pikachu='Claydol' peso='108.0 kg'>,\n",
              " <Record ataca_pikachu='Groudon' peso='950.0 kg'>,\n",
              " <Record ataca_pikachu='Torterra' peso='310.0 kg'>,\n",
              " <Record ataca_pikachu='Gastrodon' peso='29.9 kg'>,\n",
              " <Record ataca_pikachu='Gible' peso='20.5 kg'>,\n",
              " <Record ataca_pikachu='Gabite' peso='56.0 kg'>,\n",
              " <Record ataca_pikachu='Garchomp' peso='95.0 kg'>,\n",
              " <Record ataca_pikachu='Hippopotas' peso='49.5 kg'>,\n",
              " <Record ataca_pikachu='Hippowdon' peso='300.0 kg'>,\n",
              " <Record ataca_pikachu='Rhyperior' peso='282.8 kg'>,\n",
              " <Record ataca_pikachu='Gliscor' peso='42.5 kg'>,\n",
              " <Record ataca_pikachu='Mamoswine' peso='291.0 kg'>,\n",
              " <Record ataca_pikachu='Excadrill' peso='40.4 kg'>,\n",
              " <Record ataca_pikachu='Palpitoad' peso='17.0 kg'>,\n",
              " <Record ataca_pikachu='Seismitoad' peso='62.0 kg'>,\n",
              " <Record ataca_pikachu='Sandile' peso='15.2 kg'>,\n",
              " <Record ataca_pikachu='Krokorok' peso='33.4 kg'>,\n",
              " <Record ataca_pikachu='Krookodile' peso='96.3 kg'>,\n",
              " <Record ataca_pikachu='Stunfisk' peso='11.0 kg'>,\n",
              " <Record ataca_pikachu='Golett' peso='92.0 kg'>,\n",
              " <Record ataca_pikachu='Golurk' peso='330.0 kg'>,\n",
              " <Record ataca_pikachu='Landorus' peso='68.0 kg'>,\n",
              " <Record ataca_pikachu='Diggersby' peso='42.4 kg'>,\n",
              " <Record ataca_pikachu='Zygarde' peso='305.0 kg'>,\n",
              " <Record ataca_pikachu='Mudbray' peso='110.0 kg'>,\n",
              " <Record ataca_pikachu='Mudsdale' peso='920.0 kg'>,\n",
              " <Record ataca_pikachu='Sandygast' peso='70.0 kg'>,\n",
              " <Record ataca_pikachu='Palossand' peso='250.0 kg'>,\n",
              " <Record ataca_pikachu='Sandaconda' peso='65.5 kg'>,\n",
              " <Record ataca_pikachu='Runerigus' peso='66.6 kg'>,\n",
              " <Record ataca_pikachu='Ursaluna' peso='290.0 kg'>,\n",
              " <Record ataca_pikachu='Toedscool' peso='33.0 kg'>,\n",
              " <Record ataca_pikachu='Toedscruel' peso='58.0 kg'>,\n",
              " <Record ataca_pikachu='Clodsire' peso='223.0 kg'>,\n",
              " <Record ataca_pikachu='Great Tusk' peso='320.0 kg'>,\n",
              " <Record ataca_pikachu='Sandy Shocks' peso='60.0 kg'>,\n",
              " <Record ataca_pikachu='Iron Treads' peso='240.0 kg'>,\n",
              " <Record ataca_pikachu='Ting-Lu' peso='699.7 kg'>]"
            ]
          },
          "metadata": {},
          "execution_count": 8
        }
      ]
    },
    {
      "cell_type": "markdown",
      "source": [
        "## Qual a cor mais comum de um Pokémon que é atacado pelo tipo gelo?"
      ],
      "metadata": {
        "id": "pHyZqRdlwKkm"
      }
    },
    {
      "cell_type": "code",
      "source": [
        "print(\"\\nCor mais comum de um Pokémon atacado pelo tipo gelo:\\n\")\n",
        "\n",
        "consultar(\"\"\"\n",
        "MATCH (pokemon:POKEMON)-[:HAS_TYPE]->(t1:TYPE)-[:WEAKNESS]->(t2:TYPE {type: \"Ice\"})\n",
        "RETURN pokemon.color, COUNT(pokemon.color) AS color_count\n",
        "ORDER BY color_count DESC\n",
        "LIMIT 1\n",
        "\"\"\")"
      ],
      "metadata": {
        "colab": {
          "base_uri": "https://localhost:8080/"
        },
        "id": "ZcolqOaV0FhS",
        "outputId": "9e23f99e-1a98-45c2-f851-550d5a017759"
      },
      "execution_count": 9,
      "outputs": [
        {
          "output_type": "stream",
          "name": "stdout",
          "text": [
            "\n",
            "Cor mais comum de um Pokémon atacado pelo tipo gelo:\n",
            "\n"
          ]
        },
        {
          "output_type": "execute_result",
          "data": {
            "text/plain": [
              "[<Record pokemon.color='blue' color_count=93>]"
            ]
          },
          "metadata": {},
          "execution_count": 9
        }
      ]
    },
    {
      "cell_type": "markdown",
      "source": [
        "## Quantas segundas e terceiras evoluções que fazem um Pokémon no mínimo dobrar de peso?"
      ],
      "metadata": {
        "id": "SxwAS2fJx0Tw"
      }
    },
    {
      "cell_type": "code",
      "source": [
        "print(\"\\nQuantidade de Segundas e Terceiras evoluções fazem um Pokémon no mínimo dobrar de peso:\\n\")\n",
        "\n",
        "consultar(\"\"\"\n",
        "MATCH (p1:POKEMON)-[:EVOLUTION]->(p2:POKEMON)\n",
        "WHERE toFloat(replace(p2.weight, ' kg', '')) >= 2 * toFloat(replace(p1.weight, ' kg', ''))\n",
        "WITH p1, p2\n",
        "RETURN COUNT(DISTINCT p2) AS total_evolucoes\n",
        "\"\"\")"
      ],
      "metadata": {
        "colab": {
          "base_uri": "https://localhost:8080/"
        },
        "id": "SkRSCkEt0I1l",
        "outputId": "a8957085-fecf-48eb-957e-e87ed2394bde"
      },
      "execution_count": 11,
      "outputs": [
        {
          "output_type": "stream",
          "name": "stdout",
          "text": [
            "\n",
            "Quantidade de Segundas e Terceiras evoluções fazem um Pokémon no mínimo dobrar de peso:\n",
            "\n"
          ]
        },
        {
          "output_type": "execute_result",
          "data": {
            "text/plain": [
              "[<Record total_evolucoes=412>]"
            ]
          },
          "metadata": {},
          "execution_count": 11
        }
      ]
    }
  ]
}